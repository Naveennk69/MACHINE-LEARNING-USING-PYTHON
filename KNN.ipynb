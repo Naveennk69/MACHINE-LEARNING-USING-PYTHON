{
 "cells": [
  {
   "cell_type": "code",
   "execution_count": 10,
   "id": "2d2aa894-500a-4847-8899-403bfaefc177",
   "metadata": {},
   "outputs": [],
   "source": [
    "import pandas as pd \n",
    "from sklearn.model_selection import train_test_split \n",
    "from sklearn.preprocessing import LabelEncoder\n",
    "from sklearn.neighbors import KNeighborsClassifier \n",
    "from sklearn.metrics import classification_report \n",
    "from sklearn import metrics \n",
    "import seaborn as sn"
   ]
  },
  {
   "cell_type": "code",
   "execution_count": 4,
   "id": "cb700168-b13d-458d-856e-d83ce4f1662b",
   "metadata": {},
   "outputs": [
    {
     "ename": "TypeError",
     "evalue": "'tuple' object is not callable",
     "output_type": "error",
     "traceback": [
      "\u001b[1;31m---------------------------------------------------------------------------\u001b[0m",
      "\u001b[1;31mTypeError\u001b[0m                                 Traceback (most recent call last)",
      "Cell \u001b[1;32mIn[4], line 3\u001b[0m\n\u001b[0;32m      1\u001b[0m data \u001b[38;5;241m=\u001b[39m pd\u001b[38;5;241m.\u001b[39mread_csv(\u001b[38;5;124m\"\u001b[39m\u001b[38;5;124mC:/Users/USER/Downloads/college_student_placement_dataset.csv\u001b[39m\u001b[38;5;124m\"\u001b[39m)\n\u001b[0;32m      2\u001b[0m data\u001b[38;5;241m.\u001b[39mtail()\n\u001b[1;32m----> 3\u001b[0m \u001b[43mdata\u001b[49m\u001b[38;5;241;43m.\u001b[39;49m\u001b[43mshape\u001b[49m\u001b[43m(\u001b[49m\u001b[43m)\u001b[49m\n",
      "\u001b[1;31mTypeError\u001b[0m: 'tuple' object is not callable"
     ]
    }
   ],
   "source": [
    "data = pd.read_csv(\"C:/Users/USER/Downloads/college_student_placement_dataset.csv\")\n",
    "data.tail()\n"
   ]
  },
  {
   "cell_type": "code",
   "execution_count": 5,
   "id": "39e516f3-2109-430f-a4ae-a6df8427c497",
   "metadata": {},
   "outputs": [
    {
     "data": {
      "text/plain": [
       "(10000, 10)"
      ]
     },
     "execution_count": 5,
     "metadata": {},
     "output_type": "execute_result"
    }
   ],
   "source": [
    "data.shape"
   ]
  },
  {
   "cell_type": "code",
   "execution_count": 6,
   "id": "e5ae266b-855a-419a-84ac-503b49d98e04",
   "metadata": {},
   "outputs": [
    {
     "data": {
      "text/plain": [
       "College_ID                0\n",
       "IQ                        0\n",
       "Prev_Sem_Result           0\n",
       "CGPA                      0\n",
       "Academic_Performance      0\n",
       "Internship_Experience     0\n",
       "Extra_Curricular_Score    0\n",
       "Communication_Skills      0\n",
       "Projects_Completed        0\n",
       "Placement                 0\n",
       "dtype: int64"
      ]
     },
     "execution_count": 6,
     "metadata": {},
     "output_type": "execute_result"
    }
   ],
   "source": [
    "data.isnull().sum()"
   ]
  },
  {
   "cell_type": "code",
   "execution_count": 17,
   "id": "950096c5-fbee-4c80-a934-73f08f53cf65",
   "metadata": {},
   "outputs": [
    {
     "name": "stdout",
     "output_type": "stream",
     "text": [
      "[[107 161 173 ...   8   8   4]\n",
      " [ 97  52  82 ...   7   8   0]\n",
      " [109  36 128 ...   3   1   1]\n",
      " ...\n",
      " [ 89 108 170 ...   3   9   5]\n",
      " [107 377 437 ...   7   5   1]\n",
      " [109 441 522 ...   3   5   5]] [0 0 0 ... 0 0 0]\n"
     ]
    }
   ],
   "source": [
    "x=data.iloc[:,1:-1].values  \n",
    "y=data.iloc[:,-1].values\n",
    "print(x,y)"
   ]
  },
  {
   "cell_type": "code",
   "execution_count": 11,
   "id": "4b0ffe0a-4e06-4c8c-b5d8-31a777ffbe8b",
   "metadata": {},
   "outputs": [
    {
     "data": {
      "text/html": [
       "<div>\n",
       "<style scoped>\n",
       "    .dataframe tbody tr th:only-of-type {\n",
       "        vertical-align: middle;\n",
       "    }\n",
       "\n",
       "    .dataframe tbody tr th {\n",
       "        vertical-align: top;\n",
       "    }\n",
       "\n",
       "    .dataframe thead th {\n",
       "        text-align: right;\n",
       "    }\n",
       "</style>\n",
       "<table border=\"1\" class=\"dataframe\">\n",
       "  <thead>\n",
       "    <tr style=\"text-align: right;\">\n",
       "      <th></th>\n",
       "      <th>College_ID</th>\n",
       "      <th>IQ</th>\n",
       "      <th>Prev_Sem_Result</th>\n",
       "      <th>CGPA</th>\n",
       "      <th>Academic_Performance</th>\n",
       "      <th>Internship_Experience</th>\n",
       "      <th>Extra_Curricular_Score</th>\n",
       "      <th>Communication_Skills</th>\n",
       "      <th>Projects_Completed</th>\n",
       "      <th>Placement</th>\n",
       "    </tr>\n",
       "  </thead>\n",
       "  <tbody>\n",
       "    <tr>\n",
       "      <th>9995</th>\n",
       "      <td>CLG0021</td>\n",
       "      <td>119</td>\n",
       "      <td>341</td>\n",
       "      <td>374</td>\n",
       "      <td>4</td>\n",
       "      <td>0</td>\n",
       "      <td>1</td>\n",
       "      <td>8</td>\n",
       "      <td>0</td>\n",
       "      <td>1</td>\n",
       "    </tr>\n",
       "    <tr>\n",
       "      <th>9996</th>\n",
       "      <td>CLG0098</td>\n",
       "      <td>70</td>\n",
       "      <td>425</td>\n",
       "      <td>479</td>\n",
       "      <td>7</td>\n",
       "      <td>0</td>\n",
       "      <td>0</td>\n",
       "      <td>7</td>\n",
       "      <td>2</td>\n",
       "      <td>0</td>\n",
       "    </tr>\n",
       "    <tr>\n",
       "      <th>9997</th>\n",
       "      <td>CLG0066</td>\n",
       "      <td>89</td>\n",
       "      <td>108</td>\n",
       "      <td>170</td>\n",
       "      <td>3</td>\n",
       "      <td>1</td>\n",
       "      <td>3</td>\n",
       "      <td>9</td>\n",
       "      <td>5</td>\n",
       "      <td>0</td>\n",
       "    </tr>\n",
       "    <tr>\n",
       "      <th>9998</th>\n",
       "      <td>CLG0045</td>\n",
       "      <td>107</td>\n",
       "      <td>377</td>\n",
       "      <td>437</td>\n",
       "      <td>3</td>\n",
       "      <td>0</td>\n",
       "      <td>7</td>\n",
       "      <td>5</td>\n",
       "      <td>1</td>\n",
       "      <td>0</td>\n",
       "    </tr>\n",
       "    <tr>\n",
       "      <th>9999</th>\n",
       "      <td>CLG0060</td>\n",
       "      <td>109</td>\n",
       "      <td>441</td>\n",
       "      <td>522</td>\n",
       "      <td>8</td>\n",
       "      <td>0</td>\n",
       "      <td>3</td>\n",
       "      <td>5</td>\n",
       "      <td>5</td>\n",
       "      <td>0</td>\n",
       "    </tr>\n",
       "  </tbody>\n",
       "</table>\n",
       "</div>"
      ],
      "text/plain": [
       "     College_ID   IQ  Prev_Sem_Result  CGPA  Academic_Performance  \\\n",
       "9995    CLG0021  119              341   374                     4   \n",
       "9996    CLG0098   70              425   479                     7   \n",
       "9997    CLG0066   89              108   170                     3   \n",
       "9998    CLG0045  107              377   437                     3   \n",
       "9999    CLG0060  109              441   522                     8   \n",
       "\n",
       "      Internship_Experience  Extra_Curricular_Score  Communication_Skills  \\\n",
       "9995                      0                       1                     8   \n",
       "9996                      0                       0                     7   \n",
       "9997                      1                       3                     9   \n",
       "9998                      0                       7                     5   \n",
       "9999                      0                       3                     5   \n",
       "\n",
       "      Projects_Completed  Placement  \n",
       "9995                   0          1  \n",
       "9996                   2          0  \n",
       "9997                   5          0  \n",
       "9998                   1          0  \n",
       "9999                   5          0  "
      ]
     },
     "execution_count": 11,
     "metadata": {},
     "output_type": "execute_result"
    }
   ],
   "source": [
    "label=LabelEncoder()\n",
    "data['Prev_Sem_Result']=label.fit_transform (data['Prev_Sem_Result'])\n",
    "data['CGPA']=label.fit_transform (data['CGPA'])\n",
    "data['Internship_Experience']=label.fit_transform (data['Internship_Experience'])\n",
    "data['Placement']=label.fit_transform (data['Placement'])\n",
    "data.tail()"
   ]
  },
  {
   "cell_type": "code",
   "execution_count": 18,
   "id": "463b4a4b-a651-435a-a661-60ca3a86403d",
   "metadata": {},
   "outputs": [
    {
     "name": "stdout",
     "output_type": "stream",
     "text": [
      "[[ 87 265 329 ...  10   6   0]\n",
      " [ 96 430 508 ...   3   3   4]\n",
      " [112 422 451 ...  10   8   3]\n",
      " ...\n",
      " [109 444 452 ...   8   1   2]\n",
      " [ 96 417 449 ...   0   7   5]\n",
      " [108 311 357 ...   4   7   4]] [[102 112 174 ...   5   7   1]\n",
      " [118 113 205 ...   5   1   3]\n",
      " [103  15  49 ...  10   7   5]\n",
      " ...\n",
      " [105 443 453 ...   8   3   0]\n",
      " [ 87 139 177 ...   1   4   2]\n",
      " [ 96 190 260 ...   9   4   3]] [0 0 1 ... 0 0 0] [0 0 0 ... 0 0 0]\n"
     ]
    }
   ],
   "source": [
    "x_train, x_test, y_train, y_test = train_test_split(x,y, test_size=0.3, random_state=0) \n",
    "print(x_train, x_test, y_train, y_test)"
   ]
  },
  {
   "cell_type": "code",
   "execution_count": 20,
   "id": "db5a0f0d-14e2-414e-b981-3a9c4bebdc4d",
   "metadata": {},
   "outputs": [
    {
     "name": "stdout",
     "output_type": "stream",
     "text": [
      "[[-0.83156465  0.07741321  0.20767389 ...  1.58485212  0.14782208\n",
      "  -1.45120134]\n",
      " [-0.23625349  1.21923011  1.42561993 ... -0.62976471 -0.8824679\n",
      "   0.87005759]\n",
      " [ 0.82207747  1.16386929  1.03778237 ...  1.58485212  0.83468207\n",
      "   0.28974286]\n",
      " ...\n",
      " [ 0.62364041  1.31611155  1.04458653 ...  0.95210446 -1.56932789\n",
      "  -0.29057188]\n",
      " [-0.23625349  1.12926878  1.02417403 ... -1.57888622  0.49125208\n",
      "   1.45037232]\n",
      " [ 0.55749473  0.39573792  0.39819059 ... -0.31339088  0.49125208\n",
      "   0.87005759]] [[ 0.16062062 -0.98136247 -0.84697212 ...  0.00298295  0.49125208\n",
      "  -0.87088661]\n",
      " [ 1.21895157 -0.97444236 -0.63604291 ...  0.00298295 -1.56932789\n",
      "   0.28974286]\n",
      " [ 0.22676631 -1.6526124  -1.69749309 ...  1.58485212  0.49125208\n",
      "   1.45037232]\n",
      " ...\n",
      " [ 0.35905767  1.30919144  1.0513907  ...  0.95210446 -0.8824679\n",
      "  -1.45120134]\n",
      " [-0.83156465 -0.7945197  -0.82655961 ... -1.26251238 -0.53903791\n",
      "  -0.29057188]\n",
      " [-0.23625349 -0.44159447 -0.26181369 ...  1.26847829 -0.53903791\n",
      "   0.28974286]]\n"
     ]
    }
   ],
   "source": [
    "from sklearn.preprocessing import StandardScaler \n",
    "sc=StandardScaler() \n",
    "x_train=sc.fit_transform(x_train) \n",
    "x_test=sc.transform(x_test) \n",
    "print(x_train,x_test)"
   ]
  },
  {
   "cell_type": "code",
   "execution_count": 21,
   "id": "60817afc-ce87-46ef-a4e2-c9eca88b62f5",
   "metadata": {},
   "outputs": [
    {
     "name": "stdout",
     "output_type": "stream",
     "text": [
      "KNN [ minkowski ]\n",
      "for n_neighbor=5 : \n",
      "\n",
      " Confusion Matrix :  [[2466   49]\n",
      " [ 112  373]]\n",
      "Accuracy Score :  0.9463333333333334\n",
      "Accuracy in Percentage :  94 %\n",
      "\n",
      "               precision    recall  f1-score   support\n",
      "\n",
      "           0       0.98      0.96      0.97      2578\n",
      "           1       0.77      0.88      0.82       422\n",
      "\n",
      "    accuracy                           0.95      3000\n",
      "   macro avg       0.87      0.92      0.90      3000\n",
      "weighted avg       0.95      0.95      0.95      3000\n",
      "\n",
      "[0.9273333333333333, 0.928, 0.939, 0.9346666666666666, 0.9463333333333334]\n"
     ]
    }
   ],
   "source": [
    "results=[] \n",
    "for i in [1,2,3,4,5]: \n",
    "    model = KNeighborsClassifier(n_neighbors=i, \n",
    "metric='minkowski', p=2) \n",
    "    model.fit(x_train, y_train) \n",
    "    y_pred=model.predict(x_test) \n",
    "    Accuracy_score=metrics.accuracy_score(y_test, y_pred) \n",
    "    results.append(Accuracy_score) \n",
    " \n",
    "print('KNN [ minkowski ]') \n",
    "print('for n_neighbor=5 : ') \n",
    "conf_mat=metrics.confusion_matrix(y_test, y_pred) \n",
    "print('\\n Confusion Matrix : ', conf_mat) \n",
    "print('Accuracy Score : ', Accuracy_score) \n",
    "print('Accuracy in Percentage : ', \n",
    "int(Accuracy_score*100),'%') \n",
    "print('\\n',classification_report(y_pred,y_test)) \n",
    " \n",
    "print(results)"
   ]
  },
  {
   "cell_type": "code",
   "execution_count": 26,
   "id": "58c34ed7-10b2-4757-8120-88e274f6070f",
   "metadata": {},
   "outputs": [
    {
     "data": {
      "text/plain": [
       "[Text(0.5, 1.0, 'KNN [ minkowski, \\nneighbor=5 ]')]"
      ]
     },
     "execution_count": 26,
     "metadata": {},
     "output_type": "execute_result"
    },
    {
     "data": {
      "image/png": "[encoded data removed]",
      "text/plain": [
       "<Figure size 640x480 with 2 Axes>"
      ]
     },
     "metadata": {},
     "output_type": "display_data"
    }
   ],
   "source": [
    "conf_mat=pd.crosstab(y_test, y_pred, rownames=['Actual'], \n",
    "colnames=['Predicted']) \n",
    "sn.heatmap(conf_mat, annot=True).set(title ='''KNN [ minkowski, \n",
    "neighbor=5 ]''')"
   ]
  },
  {
   "cell_type": "code",
   "execution_count": 25,
   "id": "92b6fe23-0fe8-4d5d-b83d-01d2ea985fbc",
   "metadata": {},
   "outputs": [
    {
     "name": "stdout",
     "output_type": "stream",
     "text": [
      "n_neighbors  Accuracy Score\n",
      "          1        0.927333\n",
      "          2        0.928000\n",
      "          3        0.939000\n",
      "          4        0.934667\n",
      "          5        0.946333\n"
     ]
    }
   ],
   "source": [
    "models = pd.DataFrame({ \n",
    "    'n_neighbors': ['1', '2','3','4','5'], \n",
    "    'Accuracy Score': \n",
    "[results[0],results[1],results[2],results[3],results[4]]}) \n",
    "models.sort_values(by='Accuracy Score') \n",
    "print(models.to_string(index=False))"
   ]
  }
 ],
 "metadata": {
  "kernelspec": {
   "display_name": "Python 3 (ipykernel)",
   "language": "python",
   "name": "python3"
  },
  "language_info": {
   "codemirror_mode": {
    "name": "ipython",
    "version": 3
   },
   "file_extension": ".py",
   "mimetype": "text/x-python",
   "name": "python",
   "nbconvert_exporter": "python",
   "pygments_lexer": "ipython3",
   "version": "3.11.8"
  }
 },
 "nbformat": 4,
 "nbformat_minor": 5
}
